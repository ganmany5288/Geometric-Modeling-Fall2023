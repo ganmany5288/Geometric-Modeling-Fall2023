{
 "cells": [
  {
   "cell_type": "markdown",
   "metadata": {},
   "source": [
    "# Neighborhood Computations"
   ]
  },
  {
   "cell_type": "code",
   "execution_count": 1199,
   "metadata": {},
   "outputs": [],
   "source": [
    "import numpy as np\n",
    "import igl\n",
    "import meshplot"
   ]
  },
  {
   "cell_type": "code",
   "execution_count": 1200,
   "metadata": {},
   "outputs": [
    {
     "name": "stdout",
     "output_type": "stream",
     "text": [
      "[[2784 2497 2027]\n",
      " [1077  225 1060]\n",
      " [ 425  450  381]\n",
      " ...\n",
      " [3086 3203 3162]\n",
      " [3086 3162 3151]\n",
      " [3086 3151 3085]]\n",
      "-----------------------------------\n",
      "[[-0.0260146   0.112578    0.0363871 ]\n",
      " [-0.0321783   0.174119   -0.00263321]\n",
      " [-0.080718    0.152855    0.0302446 ]\n",
      " ...\n",
      " [-0.023099    0.156978   -0.00584018]\n",
      " [-0.0713101   0.15068    -0.0435721 ]\n",
      " [-0.0396435   0.152397   -0.00721968]]\n"
     ]
    }
   ],
   "source": [
    "bunny_v, bunny_f = igl.read_triangle_mesh(\"data/bunny.off\")\n",
    "cube_v, cube_f = igl.read_triangle_mesh(\"data/cube.obj\")\n",
    "sphere_v, sphere_f = igl.read_triangle_mesh(\"data/sphere.obj\")\n",
    "\n",
    "# ?igl.read_triangle_mesh\n",
    "\n",
    "print(bunny_f)\n",
    "\n",
    "\n",
    "print(\"-----------------------------------\")\n",
    "\n",
    "\n",
    "print(bunny_v)"
   ]
  },
  {
   "cell_type": "code",
   "execution_count": 1201,
   "metadata": {},
   "outputs": [
    {
     "data": {
      "application/vnd.jupyter.widget-view+json": {
       "model_id": "7ed4d4868b794c42ae44200740af225a",
       "version_major": 2,
       "version_minor": 0
      },
      "text/plain": [
       "Renderer(camera=PerspectiveCamera(children=(DirectionalLight(color='white', intensity=0.6, position=(-0.016860…"
      ]
     },
     "metadata": {},
     "output_type": "display_data"
    },
    {
     "data": {
      "text/plain": [
       "<meshplot.Viewer.Viewer at 0x7fe921342cd0>"
      ]
     },
     "execution_count": 1201,
     "metadata": {},
     "output_type": "execute_result"
    }
   ],
   "source": [
    "meshplot.plot(bunny_v, bunny_f, shading={\"wireframe\": True})"
   ]
  },
  {
   "cell_type": "code",
   "execution_count": 1202,
   "metadata": {},
   "outputs": [
    {
     "data": {
      "application/vnd.jupyter.widget-view+json": {
       "model_id": "7dfb361e6cc542a7bf64218730ac5754",
       "version_major": 2,
       "version_minor": 0
      },
      "text/plain": [
       "Renderer(camera=PerspectiveCamera(children=(DirectionalLight(color='white', intensity=0.6, position=(0.0, 0.0,…"
      ]
     },
     "metadata": {},
     "output_type": "display_data"
    },
    {
     "data": {
      "text/plain": [
       "<meshplot.Viewer.Viewer at 0x7fe92133fd90>"
      ]
     },
     "execution_count": 1202,
     "metadata": {},
     "output_type": "execute_result"
    }
   ],
   "source": [
    "meshplot.plot(cube_v, cube_f, shading={\"wireframe\": True})"
   ]
  },
  {
   "cell_type": "code",
   "execution_count": 1203,
   "metadata": {},
   "outputs": [
    {
     "data": {
      "application/vnd.jupyter.widget-view+json": {
       "model_id": "2d280c279dc34941b926f4dfe4d4754d",
       "version_major": 2,
       "version_minor": 0
      },
      "text/plain": [
       "Renderer(camera=PerspectiveCamera(children=(DirectionalLight(color='white', intensity=0.6, position=(0.0, 0.0,…"
      ]
     },
     "metadata": {},
     "output_type": "display_data"
    },
    {
     "data": {
      "text/plain": [
       "<meshplot.Viewer.Viewer at 0x7fe9083fcac0>"
      ]
     },
     "execution_count": 1203,
     "metadata": {},
     "output_type": "execute_result"
    }
   ],
   "source": [
    "meshplot.plot(sphere_v, sphere_f, shading={\"wireframe\": True})"
   ]
  },
  {
   "cell_type": "markdown",
   "metadata": {},
   "source": [
    "## Vertex-to-Face Relations"
   ]
  },
  {
   "cell_type": "code",
   "execution_count": 1204,
   "metadata": {},
   "outputs": [
    {
     "data": {
      "text/plain": [
       "(array([ 849,  850,  912, ..., 1500, 5112, 5264], dtype=int32),\n",
       " array([    0,     5,     9, ..., 20898, 20898, 20898], dtype=int32))"
      ]
     },
     "execution_count": 1204,
     "metadata": {},
     "output_type": "execute_result"
    }
   ],
   "source": [
    "bunny_vf = igl.vertex_triangle_adjacency(bunny_f, len(bunny_f))\n",
    "cube_vf = igl.vertex_triangle_adjacency(cube_f, len(cube_f))\n",
    "sphere_vf = igl.vertex_triangle_adjacency(sphere_f, len(sphere_f))\n",
    "\n",
    "# print(type(len(bunny_f)))\n",
    "\n",
    "# ?igl.vertex_triangle_adjacency\n",
    "\n",
    "bunny_vf\n",
    "# print(\"cube\\n\")\n",
    "# cube_vf\n",
    "# print(\"sphere\\n\")\n",
    "# sphere_vf\n"
   ]
  },
  {
   "cell_type": "markdown",
   "metadata": {},
   "source": [
    "## Vertex-to-Vertex Relations"
   ]
  },
  {
   "cell_type": "code",
   "execution_count": 1205,
   "metadata": {},
   "outputs": [
    {
     "name": "stdout",
     "output_type": "stream",
     "text": [
      "[[2784 2497 2027]\n",
      " [1077  225 1060]\n",
      " [ 425  450  381]\n",
      " ...\n",
      " [3086 3203 3162]\n",
      " [3086 3162 3151]\n",
      " [3086 3151 3085]]\n"
     ]
    },
    {
     "name": "stdout",
     "output_type": "stream",
     "text": [
      "\u001b[0;31mDocstring:\u001b[0m\n",
      "adjacency_list(f: array) -> handle\n",
      "\n",
      "\n",
      "Constructs the graph adjacency list of a given mesh (v, f)\n",
      "\n",
      "Parameters\n",
      "----------\n",
      "f : #f by dim array of fixed dimensional (e.g. triangle (#f by 3),\n",
      "    tet (#f by 4), quad (#f by 4), etc...) mesh faces\n",
      "\n",
      "Returns\n",
      "-------\n",
      "list of lists containing at index i the adjacent vertices of vertex i\n",
      "\n",
      "See also\n",
      "--------\n",
      "adjacency_matrix\n",
      "\n",
      "Notes\n",
      "-----\n",
      "\n",
      "Examples\n",
      "--------\n",
      "# Mesh in (v, f)\n",
      ">>> a = mesh_adjacency_list(f)\n",
      "\u001b[0;31mType:\u001b[0m      builtin_function_or_method"
     ]
    }
   ],
   "source": [
    "bunny_vv = igl.adjacency_list(bunny_f)\n",
    "cube_vv = igl.adjacency_list(cube_f)\n",
    "sphere_vv = igl.adjacency_list(sphere_f)\n",
    "\n",
    "print(bunny_f)\n",
    "\n",
    "?igl.adjacency_list\n",
    "\n",
    "# print(bunny_vv)\n",
    "# print(\"----------------------------------------------------\")\n",
    "# print(cube_vv)\n",
    "# print(\"----------------------------------------------------\")\n",
    "# print(sphere_vv)"
   ]
  },
  {
   "cell_type": "markdown",
   "metadata": {},
   "source": [
    "# Visualizing the Neighborhood Relations"
   ]
  },
  {
   "cell_type": "code",
   "execution_count": 1206,
   "metadata": {},
   "outputs": [
    {
     "name": "stdout",
     "output_type": "stream",
     "text": [
      "[[2784 2497 2027]\n",
      " [1077  225 1060]\n",
      " [ 425  450  381]\n",
      " ...\n",
      " [3086 3203 3162]\n",
      " [3086 3162 3151]\n",
      " [3086 3151 3085]]\n",
      "----------------------------------------------------\n",
      "[[-0.0260146   0.112578    0.0363871 ]\n",
      " [-0.0321783   0.174119   -0.00263321]\n",
      " [-0.080718    0.152855    0.0302446 ]\n",
      " ...\n",
      " [-0.023099    0.156978   -0.00584018]\n",
      " [-0.0713101   0.15068    -0.0435721 ]\n",
      " [-0.0396435   0.152397   -0.00721968]]\n"
     ]
    }
   ],
   "source": [
    "print(bunny_f) # list of face indices into vertex positions\n",
    "\n",
    "print(\"----------------------------------------------------\")\n",
    "\n",
    "print(bunny_v) # array of vertex positions v by 3"
   ]
  },
  {
   "cell_type": "markdown",
   "metadata": {},
   "source": [
    "## Shading\n",
    "\n",
    "Meshplot requires per vertex normals, so we need to \"explode\" the mesh"
   ]
  },
  {
   "cell_type": "code",
   "execution_count": 1207,
   "metadata": {},
   "outputs": [],
   "source": [
    "def explosion(V, F):\n",
    "    # V = \n",
    "    # F = \n",
    "    # triangle has 3 sides that's all connected to different faces, therefore we need 3 times the number of vertices\n",
    "    # faces count don't change\n",
    "\n",
    "    explode_v = np.array([V[face[j]] for face in F for j in range(3)]) # 2D list of x*3 by 3 of random values\n",
    "    explode_f = np.array([[3*i, 3*i+1, 3*i+2] for i in range(len(F))]) # 2D list of x by 3 of random values   \n",
    "\n",
    "    return explode_v, explode_f\n",
    "\n",
    "expCube_v, expCube_f = explosion(cube_v, cube_f)\n",
    "expSphere_v, expSphere_f = explosion(sphere_v, sphere_f)\n",
    "expBunny_v, expBunny_f = explosion(bunny_v, bunny_f)\n",
    "\n"
   ]
  },
  {
   "cell_type": "markdown",
   "metadata": {},
   "source": [
    "### Flat Shading"
   ]
  },
  {
   "cell_type": "code",
   "execution_count": 1208,
   "metadata": {},
   "outputs": [
    {
     "data": {
      "application/vnd.jupyter.widget-view+json": {
       "model_id": "2c48f128b75942bbb724b6724e909a6a",
       "version_major": 2,
       "version_minor": 0
      },
      "text/plain": [
       "Renderer(camera=PerspectiveCamera(children=(DirectionalLight(color='white', intensity=0.6, position=(0.0, 0.0,…"
      ]
     },
     "metadata": {},
     "output_type": "display_data"
    },
    {
     "data": {
      "text/plain": [
       "<meshplot.Viewer.Viewer at 0x7fe8a810f940>"
      ]
     },
     "execution_count": 1208,
     "metadata": {},
     "output_type": "execute_result"
    }
   ],
   "source": [
    "# idk what to do here :jerry:\n",
    "\n",
    "normCube = igl.per_vertex_normals(expCube_v, expCube_f)\n",
    "\n",
    "meshplot.plot(expCube_v, expCube_f, n=normCube , shading={\"flat\": True, \"wireframe\": True})\n"
   ]
  },
  {
   "cell_type": "code",
   "execution_count": 1209,
   "metadata": {},
   "outputs": [
    {
     "data": {
      "application/vnd.jupyter.widget-view+json": {
       "model_id": "8379f0f98287450e830c8a42a7042457",
       "version_major": 2,
       "version_minor": 0
      },
      "text/plain": [
       "Renderer(camera=PerspectiveCamera(children=(DirectionalLight(color='white', intensity=0.6, position=(-0.016860…"
      ]
     },
     "metadata": {},
     "output_type": "display_data"
    },
    {
     "data": {
      "text/plain": [
       "<meshplot.Viewer.Viewer at 0x7fe96c444cd0>"
      ]
     },
     "execution_count": 1209,
     "metadata": {},
     "output_type": "execute_result"
    }
   ],
   "source": [
    "normBunny = igl.per_vertex_normals(expBunny_v, expBunny_f)\n",
    "\n",
    "meshplot.plot(expBunny_v, expBunny_f, n=normBunny , shading={\"flat\": False})"
   ]
  },
  {
   "cell_type": "code",
   "execution_count": 1210,
   "metadata": {},
   "outputs": [
    {
     "data": {
      "application/vnd.jupyter.widget-view+json": {
       "model_id": "c9d919dd406d438b9524f50407c4988c",
       "version_major": 2,
       "version_minor": 0
      },
      "text/plain": [
       "Renderer(camera=PerspectiveCamera(children=(DirectionalLight(color='white', intensity=0.6, position=(0.0, 0.0,…"
      ]
     },
     "metadata": {},
     "output_type": "display_data"
    },
    {
     "data": {
      "text/plain": [
       "<meshplot.Viewer.Viewer at 0x7fe898a09af0>"
      ]
     },
     "execution_count": 1210,
     "metadata": {},
     "output_type": "execute_result"
    }
   ],
   "source": [
    "# Sphere\n",
    "\n",
    "normSphere = igl.per_vertex_normals(expSphere_v, expSphere_f)\n",
    "\n",
    "meshplot.plot(expSphere_v, expSphere_f, n=normSphere , shading={\"flat\": True})\n",
    "\n"
   ]
  },
  {
   "cell_type": "markdown",
   "metadata": {},
   "source": [
    "### Per-vertex Shading"
   ]
  },
  {
   "cell_type": "code",
   "execution_count": 1211,
   "metadata": {},
   "outputs": [
    {
     "data": {
      "application/vnd.jupyter.widget-view+json": {
       "model_id": "8f14b3f4cd844905a299ea87dd418329",
       "version_major": 2,
       "version_minor": 0
      },
      "text/plain": [
       "Renderer(camera=PerspectiveCamera(children=(DirectionalLight(color='white', intensity=0.6, position=(0.0, 0.0,…"
      ]
     },
     "metadata": {},
     "output_type": "display_data"
    },
    {
     "data": {
      "text/plain": [
       "<meshplot.Viewer.Viewer at 0x7fe898a254c0>"
      ]
     },
     "execution_count": 1211,
     "metadata": {},
     "output_type": "execute_result"
    }
   ],
   "source": [
    "cube_n = igl.per_vertex_normals(cube_v, cube_f)\n",
    "\n",
    "meshplot.plot(cube_v, cube_f, n = cube_n, shading={\"flat\": False})"
   ]
  },
  {
   "cell_type": "markdown",
   "metadata": {},
   "source": [
    "### Per-corner Shading"
   ]
  },
  {
   "cell_type": "code",
   "execution_count": 1212,
   "metadata": {},
   "outputs": [
    {
     "data": {
      "application/vnd.jupyter.widget-view+json": {
       "model_id": "1d1b7a0825cc45569eb998659f8d2beb",
       "version_major": 2,
       "version_minor": 0
      },
      "text/plain": [
       "Renderer(camera=PerspectiveCamera(children=(DirectionalLight(color='white', intensity=0.6, position=(0.0, 0.0,…"
      ]
     },
     "metadata": {},
     "output_type": "display_data"
    },
    {
     "data": {
      "text/plain": [
       "<meshplot.Viewer.Viewer at 0x7fe898a251c0>"
      ]
     },
     "execution_count": 1212,
     "metadata": {},
     "output_type": "execute_result"
    }
   ],
   "source": [
    "normCube = igl.per_corner_normals(cube_v, cube_f, 69)\n",
    "meshplot.plot(expCube_v, expCube_f, n = normCube, shading={\"wireframe\": True})"
   ]
  },
  {
   "cell_type": "code",
   "execution_count": 1213,
   "metadata": {},
   "outputs": [
    {
     "data": {
      "application/vnd.jupyter.widget-view+json": {
       "model_id": "b7c6a7eb43d94bba917a339a3d985a3d",
       "version_major": 2,
       "version_minor": 0
      },
      "text/plain": [
       "Renderer(camera=PerspectiveCamera(children=(DirectionalLight(color='white', intensity=0.6, position=(-0.016860…"
      ]
     },
     "metadata": {},
     "output_type": "display_data"
    },
    {
     "data": {
      "text/plain": [
       "<meshplot.Viewer.Viewer at 0x7fe898a25d00>"
      ]
     },
     "execution_count": 1213,
     "metadata": {},
     "output_type": "execute_result"
    }
   ],
   "source": [
    "# Bunny \n",
    "\n",
    "\n",
    "normBunny = igl.per_corner_normals(bunny_v, bunny_f, 69)\n",
    "\n",
    "meshplot.plot(expBunny_v, expBunny_f, n=normBunny , shading={\"flat\": False})"
   ]
  },
  {
   "cell_type": "code",
   "execution_count": 1214,
   "metadata": {},
   "outputs": [
    {
     "data": {
      "application/vnd.jupyter.widget-view+json": {
       "model_id": "2aeb6a7da9fb4037b64c6c6a459186af",
       "version_major": 2,
       "version_minor": 0
      },
      "text/plain": [
       "Renderer(camera=PerspectiveCamera(children=(DirectionalLight(color='white', intensity=0.6, position=(0.0, 0.0,…"
      ]
     },
     "metadata": {},
     "output_type": "display_data"
    },
    {
     "data": {
      "text/plain": [
       "<meshplot.Viewer.Viewer at 0x7fe938e776d0>"
      ]
     },
     "execution_count": 1214,
     "metadata": {},
     "output_type": "execute_result"
    }
   ],
   "source": [
    "normSphere = igl.per_corner_normals(sphere_v, sphere_f, 69)\n",
    "\n",
    "meshplot.plot(expSphere_v, expSphere_f, n=normSphere , shading={\"flat\": False})"
   ]
  },
  {
   "cell_type": "markdown",
   "metadata": {},
   "source": [
    "## Connected Components"
   ]
  },
  {
   "cell_type": "code",
   "execution_count": 1215,
   "metadata": {},
   "outputs": [
    {
     "data": {
      "application/vnd.jupyter.widget-view+json": {
       "model_id": "e0642296846840d8810ccbe5ec27f193",
       "version_major": 2,
       "version_minor": 0
      },
      "text/plain": [
       "Renderer(camera=PerspectiveCamera(children=(DirectionalLight(color='white', intensity=0.6, position=(-3.253649…"
      ]
     },
     "metadata": {},
     "output_type": "display_data"
    },
    {
     "data": {
      "application/vnd.jupyter.widget-view+json": {
       "model_id": "a0300e8d9f894f21a8f3fc277e651d73",
       "version_major": 2,
       "version_minor": 0
      },
      "text/plain": [
       "Renderer(camera=PerspectiveCamera(children=(DirectionalLight(color='white', intensity=0.6, position=(-7.194198…"
      ]
     },
     "metadata": {},
     "output_type": "display_data"
    },
    {
     "data": {
      "text/plain": [
       "<meshplot.Viewer.Viewer at 0x7fe938e85400>"
      ]
     },
     "execution_count": 1215,
     "metadata": {},
     "output_type": "execute_result"
    }
   ],
   "source": [
    "# Cup\n",
    "\n",
    "cup_v, cup_f = igl.read_triangle_mesh(\"data/coffeecup.off\")\n",
    "# print(igl.face_components(cup_f))\n",
    "\n",
    "meshplot.plot(cup_v, cup_f, c=igl.face_components(cup_f))\n",
    "\n",
    "\n",
    "\n",
    "# Car\n",
    "car_v, car_f = igl.read_triangle_mesh(\"data/car.off\")\n",
    "# print(igl.face_components(cup_f))\n",
    "\n",
    "meshplot.plot(car_v, car_f, c=igl.face_components(car_f))"
   ]
  },
  {
   "cell_type": "markdown",
   "metadata": {},
   "source": [
    "## A simple subdivision scheme"
   ]
  },
  {
   "cell_type": "code",
   "execution_count": 1216,
   "metadata": {},
   "outputs": [
    {
     "name": "stdout",
     "output_type": "stream",
     "text": [
      "[[0 1]\n",
      " [0 2]\n",
      " [0 3]\n",
      " [1 2]\n",
      " [2 3]]\n",
      "------------\n",
      "[[0 3 1]\n",
      " [4 2 1]]\n",
      "------------\n",
      "[[ 0 -1]\n",
      " [ 1  0]\n",
      " [-1  1]\n",
      " [ 0 -1]\n",
      " [ 1 -1]]\n",
      "=============================================\n",
      "[[0.66666667 0.33333333]\n",
      " [0.33333333 0.66666667]]\n",
      "=============================================\n",
      "4\n",
      "2\n"
     ]
    }
   ],
   "source": [
    "V = np.array([\n",
    "    [0.0, 0.0],\n",
    "    [1.0, 0],\n",
    "    [1, 1],\n",
    "    [0, 1]\n",
    "])\n",
    "\n",
    "F = np.array([\n",
    "    [0, 1, 2],\n",
    "    [2, 3, 0]\n",
    "])\n",
    "\n",
    "# V, F = igl.read_triangle_mesh(\"data/bunny.off\")\n",
    "\n",
    "adj_list = igl.adjacency_list(F)\n",
    "\n",
    "# print(adj_list)\n",
    "\n",
    "# print(\"=============================================\")\n",
    "\n",
    "# This will produce a list where each item is a list of vertices adjacent to a vertex.\n",
    "# For the example above, adj_list[0] will be [1, 2, 3], meaning vertex 0 is adjacent to vertices 1, 2, and 3.\n",
    "\n",
    "\n",
    "# TT, _ = igl.triangle_triangle_adjacency(F)\n",
    "\n",
    "# print(TT)\n",
    "# print(_)\n",
    "\n",
    "# print(\"=============================================\")\n",
    "\n",
    "# For the above example, TT will have two rows (one for each face). Each row will show which triangles \n",
    "# are adjacent to a given triangle.\n",
    "\n",
    "\n",
    "EV, FE, EF = igl.edge_topology(V, F)\n",
    "\n",
    "print(EV)\n",
    "\n",
    "print(\"------------\")\n",
    "\n",
    "print(FE)\n",
    "\n",
    "print(\"------------\")\n",
    "\n",
    "print(EF)\n",
    "\n",
    "\n",
    "print(\"=============================================\")\n",
    "# EV: Edge-to-vertex list.\n",
    "# FE: Face-to-edge list.\n",
    "# EF: Edge-to-face list.\n",
    "\n",
    "\n",
    "BC = igl.barycenter(V, F)\n",
    "\n",
    "print(BC)\n",
    "print(\"=============================================\")\n",
    "\n",
    "\n",
    "# v2 = np.concatenate([V, BC])\n",
    "\n",
    "\n",
    "# print(v2)\n",
    "# For the example above, BC will return the barycenter for each of the two triangles in F.\n",
    "\n",
    "# EV, FE, EF = igl.edge_topology(BC, F)\n",
    "\n",
    "# print(EV)\n",
    "\n",
    "# print(\"------------\")\n",
    "\n",
    "# print(FE)\n",
    "\n",
    "# print(\"------------\")\n",
    "\n",
    "# print(EF)\n",
    "\n",
    "new_faces = []\n",
    "\n",
    "num_original_vertices = len(V)\n",
    "print(num_original_vertices)\n",
    "\n",
    "num_original_faces = len(F)\n",
    "print(num_original_faces)\n",
    "\n",
    "for i in range(num_original_faces):\n",
    "    # The vertex indices for the current triangle\n",
    "    v1, v2, v3 = F[i]\n",
    "    # print(v1, v2, v3, i)\n",
    "    \n",
    "    # The index of the barycenter for the current triangle in our new vertex list\n",
    "    mf = num_original_vertices + i\n",
    "\n",
    "    # Create new triangles\n",
    "    new_faces.append([v1, v2, mf])  # triangle formed by v1, v2, and the midpoint\n",
    "    new_faces.append([v2, v3, mf])  # triangle formed by v2, v3, and the midpoint\n",
    "    new_faces.append([v3, v1, mf])  # triangle formed by v3, v1, and the midpoint\n",
    "\n"
   ]
  },
  {
   "cell_type": "code",
   "execution_count": 1217,
   "metadata": {},
   "outputs": [
    {
     "name": "stdout",
     "output_type": "stream",
     "text": [
      "[[ 0.13282033 -0.68283467 -0.055016  ]\n",
      " [ 0.15643867 -0.67428733 -0.086118  ]\n",
      " [ 0.10931867 -0.68283467 -0.093367  ]\n",
      " ...\n",
      " [ 0.06424533  0.69425467  0.03273467]\n",
      " [ 0.07121633  0.69425467  0.01127967]\n",
      " [ 0.07121633  0.69425467 -0.01127967]]\n"
     ]
    },
    {
     "data": {
      "application/vnd.jupyter.widget-view+json": {
       "model_id": "fe442275dd1248feb05292a96a07b3d6",
       "version_major": 2,
       "version_minor": 0
      },
      "text/plain": [
       "Renderer(camera=PerspectiveCamera(children=(DirectionalLight(color='white', intensity=0.6, position=(0.0, 0.0,…"
      ]
     },
     "metadata": {},
     "output_type": "display_data"
    },
    {
     "data": {
      "text/plain": [
       "<meshplot.Viewer.Viewer at 0x7fe938e857c0>"
      ]
     },
     "execution_count": 1217,
     "metadata": {},
     "output_type": "execute_result"
    }
   ],
   "source": [
    "# Step 1\n",
    "# Reminder for myself... face by definition contains INDICES for vertexs V. (can think about this like a dictionary pair?)\n",
    "\n",
    "\n",
    "def step1(V, F):\n",
    "    # print(V)\n",
    "    # print(F)\n",
    "\n",
    "    center_p = igl.barycenter(V, F)\n",
    "    print(center_p)\n",
    "\n",
    "    f_new = []                              # needs to be numpy array\n",
    "    v_new = np.concatenate([V, center_p])   # needs to be numpy array\n",
    "\n",
    "\n",
    "    v_len = len(V)\n",
    "\n",
    "    f_len = len(F)\n",
    "    # print(F)\n",
    "    for i in range(f_len):\n",
    "        # The vertex indices for the current triangle\n",
    "        # Eg: \n",
    "        # F = [[0, 1, 20]]\n",
    "        # v1 = 0, v2 = 1, v3 = 20\n",
    "        v1, v2, v3 = F[i]\n",
    "        # print(v1, v2, v3, i)\n",
    "        \n",
    "        # The index of the barycenter for the current triangle in our new vertex list\n",
    "        # Lowkey forgot why this is...\n",
    "        mf = v_len + i\n",
    "\n",
    "        # Create new triangles\n",
    "        f_new.append([v1, v2, mf])  # triangle formed by v1, v2, and the midpoint\n",
    "        f_new.append([v2, v3, mf])  # triangle formed by v2, v3, and the midpoint\n",
    "        f_new.append([v3, v1, mf])  # triangle formed by v3, v1, and the midpoint\n",
    "\n",
    "    return np.array(v_new), np.array(f_new), center_p\n",
    "    # Add three new faces for each face f in order by connecting m_f with edges to the original 3 vertices of the face; we call the set of this newly created faces F''. \n",
    "    # How to do this???\n",
    "\n",
    "# print(sphere_v.shape)\n",
    "# print(sphere_f.shape)\n",
    "\n",
    "# v_n, f_n , center_p= step1(sphere_v, sphere_f)\n",
    "v_n, f_n , center_p= step1(sphere_v, sphere_f)\n",
    "\n",
    "# print(v_n)\n",
    "\n",
    "# print(f_n)\n",
    "\n",
    "\n",
    "# print(f_n.shape)\n",
    "meshplot.plot(v_n, f_n, shading={\"flat\": True, \"wireframe\": True}) # image looks correct\n",
    "\n"
   ]
  },
  {
   "cell_type": "code",
   "execution_count": 1235,
   "metadata": {},
   "outputs": [
    {
     "ename": "ValueError",
     "evalue": "all the input arrays must have same number of dimensions, but the array at index 0 has 2 dimension(s) and the array at index 1 has 0 dimension(s)",
     "output_type": "error",
     "traceback": [
      "\u001b[0;31m---------------------------------------------------------------------------\u001b[0m",
      "\u001b[0;31mValueError\u001b[0m                                Traceback (most recent call last)",
      "Cell \u001b[0;32mIn[1235], line 86\u001b[0m\n\u001b[1;32m     60\u001b[0m     \u001b[39mreturn\u001b[39;00m v_prime\n\u001b[1;32m     62\u001b[0m \u001b[39m# def step2(V, F):\u001b[39;00m\n\u001b[1;32m     63\u001b[0m \u001b[39m#     # 1. Calculate the barycenters for each face\u001b[39;00m\n\u001b[1;32m     64\u001b[0m \u001b[39m#     center_p = np.mean(V[F], axis=1)\u001b[39;00m\n\u001b[0;32m   (...)\u001b[0m\n\u001b[1;32m     82\u001b[0m     \n\u001b[1;32m     83\u001b[0m \u001b[39m#     return v_prime\u001b[39;00m\n\u001b[0;32m---> 86\u001b[0m \u001b[39mprint\u001b[39m(step2(v_n, f_n))\n\u001b[1;32m     89\u001b[0m meshplot\u001b[39m.\u001b[39mplot(step2(v_n, f_n), sphere_f, shading\u001b[39m=\u001b[39m{\u001b[39m\"\u001b[39m\u001b[39mwireframe\u001b[39m\u001b[39m\"\u001b[39m: \u001b[39mTrue\u001b[39;00m})\n",
      "Cell \u001b[0;32mIn[1235], line 59\u001b[0m, in \u001b[0;36mstep2\u001b[0;34m(V, F)\u001b[0m\n\u001b[1;32m     54\u001b[0m     p \u001b[39m+\u001b[39m\u001b[39m=\u001b[39m ((a_n\u001b[39m/\u001b[39mn) \u001b[39m*\u001b[39m sig_n)\n\u001b[1;32m     56\u001b[0m \u001b[39m# print(p)\u001b[39;00m\n\u001b[1;32m     57\u001b[0m \u001b[39m# print(\"=======================\")\u001b[39;00m\n\u001b[1;32m     58\u001b[0m \u001b[39m# print(center_p)\u001b[39;00m\n\u001b[0;32m---> 59\u001b[0m v_prime \u001b[39m=\u001b[39m np\u001b[39m.\u001b[39;49mconcatenate([[p], center_p])\n\u001b[1;32m     60\u001b[0m \u001b[39mreturn\u001b[39;00m v_prime\n",
      "File \u001b[0;32m<__array_function__ internals>:200\u001b[0m, in \u001b[0;36mconcatenate\u001b[0;34m(*args, **kwargs)\u001b[0m\n",
      "\u001b[0;31mValueError\u001b[0m: all the input arrays must have same number of dimensions, but the array at index 0 has 2 dimension(s) and the array at index 1 has 0 dimension(s)"
     ]
    }
   ],
   "source": [
    "# Step 2\n",
    "\n",
    "\n",
    "sig_n = 0           # Sigma function\n",
    "p = 0               # new position p\n",
    "\n",
    "# ?igl.adjacency_list\n",
    "\n",
    "\n",
    "# def step2(V, F, p, sig_n):\n",
    "#     # print(V, F)\n",
    "#     # n = len(igl.adjacency_list(V)) # Valence = edges that a vertex touches\n",
    "#     n = 1\n",
    "#     a_n = (4-2*np.cos(2 * np.pi/ n))/9\n",
    "#     temp = 0\n",
    "#     for j, v in enumerate(F):\n",
    "#         print(j)\n",
    "#         print(v)\n",
    "\n",
    "#         print(\"=========================\")\n",
    "#         n = 1\n",
    "#         # n = len(adjacency_list(j)) # Valence = edges that a vertex touches\n",
    "#         p1 = (1-a_n) * v\n",
    "#         p2 = (a_n/n)\n",
    "#         for i, vert in enumerate(v):\n",
    "#             sig_n += vert\n",
    "\n",
    "#         temp = temp + p1  + p2* sig_n\n",
    "#         p = np.concatenate([temp])\n",
    "#     return p\n",
    "# # print(step2(V, F, n, p, sig_n))\n",
    "\n",
    "# p = step2(V, F, p, sig_n)\n",
    "\n",
    "# print(p)\n",
    "\n",
    "\n",
    "# print(p)\n",
    "\n",
    "# print(igl.barycenter(V, F))\n",
    "# v_prime = np.concatenate([p, igl.barycenter(V, F)])\n",
    "\n",
    "# print(v_prime)\n",
    "\n",
    "def step2(V, F):\n",
    "    sig_n = 0\n",
    "    for i, v in enumerate(V):\n",
    "        n = len(igl.adjacency_list(F)[i])\n",
    "        a_n = (4 * 2 * np.cos(2 * np.pi/n))/9\n",
    "        p = (1-a_n) * v\n",
    "        for j, v2 in enumerate(v):\n",
    "            sig_n += v2\n",
    "        p += ((a_n/n) * sig_n)\n",
    "\n",
    "    # print(p)\n",
    "    # print(\"=======================\")\n",
    "    # print(center_p)\n",
    "    v_prime = np.concatenate([[p], center_p])\n",
    "    return v_prime\n",
    "\n",
    "# def step2(V, F):\n",
    "#     # 1. Calculate the barycenters for each face\n",
    "#     center_p = np.mean(V[F], axis=1)\n",
    "\n",
    "#     adjacency = igl.adjacency_list(F)  # Compute adjacency list once, not inside the loop\n",
    "#     new_V = []\n",
    "\n",
    "#     # 2. Update each vertex using the given formula\n",
    "#     for i, v in enumerate(V):\n",
    "#         n = len(adjacency[i])  # Valence for vertex 'v'\n",
    "#         a_n = (4 - 2 * np.cos(2 * np.pi / n)) / 9\n",
    "#         p = (1 - a_n) * v\n",
    "#         sig_n = np.sum(V[adjacency[i]], axis=0)  # Sum over neighboring vertices\n",
    "#         p += (a_n / n) * sig_n\n",
    "#         new_V.append(p)\n",
    "\n",
    "#     new_V = np.array(new_V)  # Convert the list of new vertices to a numpy array\n",
    "\n",
    "#     # 3. Concatenate the updated vertices with the barycenters\n",
    "#     v_prime = np.concatenate([new_V, center_p], axis=0)\n",
    "    \n",
    "#     return v_prime\n",
    "\n",
    "\n",
    "print(step2(v_n, f_n))\n",
    "\n",
    "\n",
    "meshplot.plot(step2(v_n, f_n), sphere_f, shading={\"wireframe\": True})\n"
   ]
  }
 ],
 "metadata": {
  "kernelspec": {
   "display_name": "Python 3 (ipykernel)",
   "language": "python",
   "name": "python3"
  },
  "language_info": {
   "codemirror_mode": {
    "name": "ipython",
    "version": 3
   },
   "file_extension": ".py",
   "mimetype": "text/x-python",
   "name": "python",
   "nbconvert_exporter": "python",
   "pygments_lexer": "ipython3",
   "version": "3.8.17"
  }
 },
 "nbformat": 4,
 "nbformat_minor": 4
}
